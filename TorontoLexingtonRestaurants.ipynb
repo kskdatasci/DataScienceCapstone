{
 "cells": [
  {
   "cell_type": "markdown",
   "metadata": {},
   "source": [
    "# Project:  Restaurant density in Toronto, Ontario and Lexington, Kentucky"
   ]
  },
  {
   "cell_type": "markdown",
   "metadata": {},
   "source": [
    "\n",
    "## Introduction\n",
    "\n",
    "### People who live near Lexington, Kentucky often note that it seems to have a large number of restaurants for its population.  How does it compare to a much larger city?  Toronto has more than 9 times the population of Lexington, so it would be interesting to see how the cities compare in the number of restaurants.  This can be examined from several different perspectives.  How does the raw number of restaurants compare between the two cities?  How does the number of restaurants per capita compare?  How does the number of restarants per square mile compare?  Are there differences in the variety of restaurants?  In short, is Lexington truly a 'restaurant town' or is it simply in line with cities like Toronto?\n",
    "\n",
    "### The results of this investigation should interest several different audiences.  Entrepeneurs can see whether Lexington is a good place to start restaurants.  Food tourists can understand if Lexington is worth a trip.  Residents and leaders of both cities can learn more about this aspect of their city's culture.  "
   ]
  },
  {
   "cell_type": "markdown",
   "metadata": {},
   "source": [
    "\n",
    "## Data\n",
    "\n",
    "### To explore these questions, I will use venue data from Foursquare.com as well as population data from Geopy.  The analysis will probably involve ANOVA and/or linear/multiple regression.  At this point, the key factors are population and city area.  If possible, the analysis may also include neighborhoods in each city (depending on whether this information is available for Lexington).  Along the way, maps and other data visualizations may prove useful."
   ]
  },
  {
   "cell_type": "code",
   "execution_count": null,
   "metadata": {},
   "outputs": [],
   "source": []
  }
 ],
 "metadata": {
  "kernelspec": {
   "display_name": "Python 3",
   "language": "python",
   "name": "python3"
  },
  "language_info": {
   "codemirror_mode": {
    "name": "ipython",
    "version": 3
   },
   "file_extension": ".py",
   "mimetype": "text/x-python",
   "name": "python",
   "nbconvert_exporter": "python",
   "pygments_lexer": "ipython3",
   "version": "3.7.4"
  }
 },
 "nbformat": 4,
 "nbformat_minor": 2
}
